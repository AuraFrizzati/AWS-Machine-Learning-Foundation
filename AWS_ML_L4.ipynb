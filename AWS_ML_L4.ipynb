{
  "nbformat": 4,
  "nbformat_minor": 0,
  "metadata": {
    "colab": {
      "name": "AWS_ML_L4.ipynb",
      "provenance": [],
      "collapsed_sections": [],
      "authorship_tag": "ABX9TyPTBZmxDUNCb6rgD1HIWiL0",
      "include_colab_link": true
    },
    "kernelspec": {
      "name": "python3",
      "display_name": "Python 3"
    },
    "language_info": {
      "name": "python"
    }
  },
  "cells": [
    {
      "cell_type": "markdown",
      "metadata": {
        "id": "view-in-github",
        "colab_type": "text"
      },
      "source": [
        "<a href=\"https://colab.research.google.com/github/AuraFrizzati/AWS-Machine-Learning-Foundation/blob/main/AWS_ML_L4.ipynb\" target=\"_parent\"><img src=\"https://colab.research.google.com/assets/colab-badge.svg\" alt=\"Open In Colab\"/></a>"
      ]
    },
    {
      "cell_type": "markdown",
      "metadata": {
        "id": "ZfHEV0MnG-9k"
      },
      "source": [
        "# **AWS ML - Lesson 4: Software Engineering Practices Part 1**\n",
        "\n",
        "## **4.1: Introduction**\n",
        "\n",
        "In this lesson, you'll learn about the following software engineering practices and how they apply in data science.\n",
        "\n",
        "- Writing **clean** and **modular code**\n",
        "- Writing **efficient code**\n",
        "- **Code refactoring**\n",
        "- Adding **meaningful documentation**\n",
        "- Using **version control**\n",
        "\n",
        "\n",
        "In the lesson following this one (part 2), you'll also learn about the following software engineering practices:\n",
        "\n",
        "- **Testing**\n",
        "- **Logging**\n",
        "- **Code reviews**"
      ]
    },
    {
      "cell_type": "markdown",
      "metadata": {
        "id": "ZkUXd5yuJXDA"
      },
      "source": [
        "## **4.2: Clean and Modular Code**\n",
        "\n",
        "**Clean code** is:\n",
        "- simple\n",
        "- readable\n",
        "- concise\n",
        "\n",
        "**Modularizing** your **code** (or breaking up your code into logical functions and modules) helps you organize your program in cleaner and more efficient ways, so that you can:\n",
        "- re-use your code\n",
        "- write less code\n",
        "- read your code\n",
        "- collaborate on code\n",
        "\n",
        "**Vocabulary**\n",
        "- **Production code**: Software running on production servers to handle live users and data of the intended audience. Note that this is different from **production-quality code**, which describes code that meets expectations for production in reliability, efficiency, and other aspects. Ideally, all code in production meets these expectations, but this is not always the case.\n",
        "- **Clean code**: Code that is readable, simple, and concise. Clean production-quality code is crucial for collaboration and maintainability in software development.\n",
        "- **Modular code**: Code that is logically broken up into functions and modules. Modular production-quality code that makes your code more organized, efficient, and reusable.\n",
        "- **Module**: A file. Modules allow code to be reused by encapsulating them into files that can be imported into other files."
      ]
    },
    {
      "cell_type": "markdown",
      "metadata": {
        "id": "E1KazkwFJXAx"
      },
      "source": [
        "## **4.3: Refactoring code**\n",
        "- **Refactoring**: Restructuring your code to improve its internal structure without changing its external functionality. This gives you a chance to clean and modularize your program after you've got it working.\n",
        "- Since it isn't easy to write your best code while you're still trying to just get it working, allocating time to do this is essential to producing high-quality code. Despite the initial time and effort required, this really pays off by speeding up your development time in the long run.\n",
        "- You become a much stronger programmer when you're constantly looking to improve your code. The more you refactor, the easier it will be to structure and write good code the first time."
      ]
    },
    {
      "cell_type": "markdown",
      "metadata": {
        "id": "hfqyFhEjJW5C"
      },
      "source": [
        "## **4.4: Writing clean code** \n",
        "### **Meaningful names**\n",
        "- **Be descriptive and imply type**: For **booleans**, you can prefix with `is_` or `has_` to make it clear it is a condition. You can also use parts of speech to imply types, like using **verbs** for **functions** and **nouns** for **variables**.\n",
        "- **Be consistent but clearly differentiate**: `age_list` and `age` is easier to differentiate than `ages` and `age`.\n",
        "- **Avoid abbreviations and single letters**: You can determine when to make these exceptions based on the **audience** for your code. If you work with other data scientists, certain variables may be common knowledge. While if you work with full stack engineers, it might be necessary to provide more descriptive names in these cases as well. (Exceptions include counters and common math variables.)\n",
        "- **Long names aren't the same as descriptive names**: You should be descriptive, but only with relevant information. For example, good function names describe what they do well without including details about implementation or highly specific uses.\n",
        "- Try testing how effective your names are by asking a fellow programmer to guess the purpose of a function or variable based on its name, without looking at your code. Coming up with meaningful names often requires effort to get right.\n",
        "\n",
        "\n",
        "### **Use whitespace properly**\n",
        "- **Organize your code with consistent indentation**: the standard is to use **four spaces for each indent**. You can make this a default in your text editor.\n",
        "- **Separate sections with blank lines** to keep your code well organized and readable.\n",
        "- **Try to limit your lines to around 79 characters**, which is the guideline given in the **PEP 8 style guide**. In many good text editors, there is a setting to display a subtle line that indicates where the 79 character limit is.\n",
        "\n",
        "\n",
        "For more guidelines, check out the code layout section of PEP 8 in the following notes.\n",
        "\n",
        "[PEP 8 guidelines for code layout](https://www.python.org/dev/peps/pep-0008/?#code-lay-out)"
      ]
    },
    {
      "cell_type": "markdown",
      "metadata": {
        "id": "zkhzJypMO0Au"
      },
      "source": [
        "### **Example/1:** \n",
        "Imagine you are writing a program that executes a number of tasks and categorizes each task based on its execution time. Below is a small snippet of this program. Which of the naming changes could make this code cleaner?\n"
      ]
    },
    {
      "cell_type": "code",
      "metadata": {
        "id": "3-362IH3G6yb"
      },
      "source": [
        "t = end_time - start  # compute execution time\n",
        "c = category(t)  # get category of task\n",
        "print('Task Duration: {} seconds, Category: {}'.format(t, c)"
      ],
      "execution_count": null,
      "outputs": []
    },
    {
      "cell_type": "markdown",
      "metadata": {
        "id": "ij9TzGWoPK6P"
      },
      "source": [
        "- Rename the variable `start` to `start_time` to make it consistent with `end_time`\n",
        "- Rename the variable `t` to `execution_time` to make it more descriptive\n",
        "- Rename the function `category` to `categorize_task` to match part of speech\n",
        "- Rename the variable `c` to `category` to make it more descriptive\n",
        "\n",
        "Result:"
      ]
    },
    {
      "cell_type": "code",
      "metadata": {
        "id": "R-2s4YUyPKs9"
      },
      "source": [
        "execution_time = end_time - start_time\n",
        "category = categorize_task(execution_time)\n",
        "print('Task Duration: {} seconds, Category: {}'.format(execution_time, category)"
      ],
      "execution_count": null,
      "outputs": []
    },
    {
      "cell_type": "markdown",
      "metadata": {
        "id": "s-mn5d5nPJ2h"
      },
      "source": [
        "### **Example/2**:\n",
        "Imagine you analyzed several stocks and calculated the ideal price, or limit price, at which you'd want to buy each stock. You write a program to iterate through your stocks and buy it if the current price is below or equal to the limit price you computed. Otherwise, you put it on a watchlist. Below are three ways of writing this code. Which of the following is the most clean?"
      ]
    },
    {
      "cell_type": "code",
      "metadata": {
        "id": "WigyDdJ2P5r_"
      },
      "source": [
        "# Choice A\n",
        "stock_limit_prices = {'LUX': 62.48, 'AAPL': 127.67, 'NVDA': 161.24}\n",
        "for stock_ticker, stock_limit_price in buy_prices.items():\n",
        "    if stock_limit_price <= get_current_stock_price(ticker):\n",
        "        buy_stock(ticker)\n",
        "    else:\n",
        "        watchlist_stock(ticker)\n",
        "# Choice B\n",
        "prices = {'LUX': 62.48, 'AAPL': 127.67, 'NVDA': 161.24}\n",
        "for ticker, price in prices.items():\n",
        "    if price <= current_price(ticker):\n",
        "        buy(ticker)\n",
        "    else:\n",
        "        watchlist(ticker)\n",
        "# Choice C\n",
        "limit_prices = {'LUX': 62.48, 'AAPL': 127.67, 'NVDA': 161.24}\n",
        "for ticker, limit in limit_prices.items():\n",
        "    if limit <= get_current_price(ticker):\n",
        "        buy(ticker)\n",
        "    else:\n",
        "        watchlist(ticker)"
      ],
      "execution_count": null,
      "outputs": []
    },
    {
      "cell_type": "markdown",
      "metadata": {
        "id": "VUWX_Av0QEdO"
      },
      "source": [
        "- All of the choices were passable, but **Choice C** was the most simple while also being descriptive. \n",
        "- Choice A unnecessarily included the word stock everywhere, when we can already assume we are dealing with stocks based on the context. Naming everything with this can be redundant unless there is a clear reason to differentiate it with something similar. \n",
        "- Choice B was also passable but could have more clearly differentiated the limit prices from the current price."
      ]
    },
    {
      "cell_type": "markdown",
      "metadata": {
        "id": "AUakxS82QciA"
      },
      "source": [
        "## **4.5: Writing modular code**\n",
        "Follow the tips below to write modular code.\n",
        "\n",
        "- **Tip: DRY (Don't Repeat Yourself)**:\n",
        "Don't repeat yourself! Modularization allows you to reuse parts of your code. Generalize and consolidate repeated code in **functions** or **loops**.\n",
        "\n",
        "- **Tip: Abstract out logic to improve readability**:\n",
        "Abstracting out code into a **function** not only makes it less repetitive, but also improves readability with descriptive function names. Although your code can become more readable when you abstract out logic into functions, it is possible to over-engineer this and have way too many modules, so use your judgement.\n",
        "\n",
        "- **Tip: Minimize the number of entities (functions, classes, modules, etc.)**:\n",
        "There are trade-offs to having function calls instead of inline logic. If you have broken up your code into an unnecessary amount of functions and modules, you'll have to jump around everywhere if you want to view the implementation details for something that may be too small to be worth it. Creating more modules doesn't necessarily result in effective modularization.\n",
        "\n",
        "- **Tip: Functions should do one thing**:\n",
        "Each function you write should be focused on doing one thing. If a function is doing multiple things, it becomes more difficult to generalize and reuse. Generally, if there's an \"and\" in your function name, consider refactoring.\n",
        "\n",
        "- **Tip: Arbitrary variable names can be more effective in certain functions**:\n",
        "Arbitrary variable names in general functions can actually make the code more readable.\n",
        "\n",
        "- **Tip: Try to use fewer than three arguments per function**:\n",
        "Try to use no more than three arguments when possible. This is not a hard rule and there are times when it is more appropriate to use many parameters. But in many cases, it's more effective to use fewer arguments. Remember we are modularizing to simplify our code and make it more efficient. If your function has a lot of parameters, you may want to rethink how you are splitting this up.\n"
      ]
    },
    {
      "cell_type": "markdown",
      "metadata": {
        "id": "oxlwLKeYj-oO"
      },
      "source": [
        "## **4.6: Efficient code**\n",
        "Knowing how to write code that runs efficiently is another essential skill in software development. Optimizing code to be more efficient can mean making it:\n",
        "- **Execute faster**\n",
        "- Take up **less space in memory/storage**  \n",
        "\n",
        "\n",
        "The project on which you're working determines which of these is more important to optimize for your company or product. When you're performing lots of different transformations on large amounts of data, this can make orders of magnitudes of difference in performance.\n",
        "\n",
        "\n"
      ]
    },
    {
      "cell_type": "markdown",
      "metadata": {
        "id": "Ds6dW5x3PxwN"
      },
      "source": [
        "### **Tip #1**: \n",
        "\n",
        "- Use **vector operations** over loops when possible: use numpy's `intersect1d` method to get the intersection of the `recent_books` and `coding_books` arrays.\n",
        "- There are many cases in which you can replace loops with NumPy and Pandas functions that use vector operations to make your computations a lot faster."
      ]
    },
    {
      "cell_type": "markdown",
      "metadata": {
        "id": "xC2cL-opRHRt"
      },
      "source": [
        "### **Tip #2**: \n",
        "- Know your **data structures** and **which methods are faster**. Use the set's `intersection` method to get the common elements in `recent_books` and `coding_books`.\n",
        "- E.g., **sets are more efficient than lists**. [What makes sets faster than lists?](https://stackoverflow.com/questions/8929284/what-makes-sets-faster-than-lists/8929445#8929445)\n",
        "\n"
      ]
    },
    {
      "cell_type": "markdown",
      "metadata": {
        "id": "I_9fmLgqdF9U"
      },
      "source": [
        "## **4.7: Documentation**\n",
        "- **Documentation**: Additional text or illustrated information that comes with or is embedded in the code of software.\n",
        "- Documentation is helpful for clarifying complex parts of code, making your code easier to navigate, and quickly conveying how and why different components of your program are used.\n",
        "- Several types of documentation can be added at different levels of your program:\n",
        "  - **Inline comments** - line level\n",
        "  - **Docstrings** - module and function level\n",
        "  - **Project documentation** - project level\n"
      ]
    },
    {
      "cell_type": "markdown",
      "metadata": {
        "id": "qRpzZvoldnjl"
      },
      "source": [
        "### **Inline Comments**\n",
        "- Inline comments are **text following hash symbols** throughout your code. They are used to explain parts of your code, and really help future contributors understand your work.\n",
        "- Comments often document the major steps of complex code. Readers may not have to understand the code to follow what it does if the comments explain it. However, others would argue that this is using comments to justify bad code, and that if code requires comments to follow, it is a sign refactoring is needed.\n",
        "- Comments are valuable for explaining where code cannot. For example, the **history behind why a certain method was implemented a specific way**. Sometimes an **unconventional or seemingly arbitrary approach** may be applied because of some obscure external variable causing side effects. These things are difficult to explain with code."
      ]
    },
    {
      "cell_type": "markdown",
      "metadata": {
        "id": "dpSLkikpeb70"
      },
      "source": [
        "### **Docstrings**\n",
        "- Docstring, or documentation strings, are valuable pieces of documentation that **explain the functionality of any function or module** in your code. Ideally, each of your functions should always have a docstring.\n",
        "\n",
        "- Docstrings are **surrounded by triple quotes**. \n",
        "- The first line of the docstring is a **brief explanation of the function's purpose**.\n",
        "\n",
        "#### **One-line docstring**"
      ]
    },
    {
      "cell_type": "code",
      "metadata": {
        "id": "yIWAz4HydnKc"
      },
      "source": [
        "def population_density(population, land_area):\n",
        "    \"\"\"Calculate the population density of an area.\"\"\"\n",
        "    return population / land_area"
      ],
      "execution_count": null,
      "outputs": []
    },
    {
      "cell_type": "markdown",
      "metadata": {
        "id": "nqG2G47pesqM"
      },
      "source": [
        "- If you think that the function is complicated enough to warrant a longer description, you can add a more thorough paragraph after the one-line summary.\n",
        "\n",
        "#### **Multi-line docstring**"
      ]
    },
    {
      "cell_type": "code",
      "metadata": {
        "id": "bH1kD1aYk5m-"
      },
      "source": [
        "def population_density(population, land_area):\n",
        "    \"\"\"Calculate the population density of an area.\n",
        "\n",
        "    Args:\n",
        "    population: int. The population of the area\n",
        "    land_area: int or float. This function is unit-agnostic, if you pass in values in terms of square km or square miles the function will return a density in those units.\n",
        "\n",
        "    Returns:\n",
        "    population_density: population/land_area. The population density of a \n",
        "    particular area.\n",
        "    \"\"\"\n",
        "    return population / land_area"
      ],
      "execution_count": null,
      "outputs": []
    },
    {
      "cell_type": "markdown",
      "metadata": {
        "id": "BCpVxc7mesNU"
      },
      "source": [
        "- The next element of a docstring is an **explanation of the function's arguments**. Here, you list the arguments, state their purpose, and state what types the arguments should be.    \n",
        "- Finally, it is common to provide some **description of the output of the function**. Every piece of the docstring is optional; however, doc strings are a part of good coding practice.\n",
        "\n",
        "**Resources**   \n",
        "- [PEP 257 - Docstring Conventions](https://www.python.org/dev/peps/pep-0257/)\n",
        "- [NumPy Docstring Guide](https://numpydoc.readthedocs.io/en/latest/format.html)"
      ]
    },
    {
      "cell_type": "markdown",
      "metadata": {
        "id": "5Qr2Abr-qIT5"
      },
      "source": [
        "### **Project Documentation**\n",
        "- Project documentation is essential for getting others to understand why and how your code is relevant to them, whether they are potentials users of your project or developers who may contribute to your code. A great first step in project documentation is your **README file**. It will often be the first interaction most users will have with your project.\n",
        "\n",
        "- Whether it's an application or a package, your project should absolutely come with a README file. At a minimum, this should explain **what it does**, list its **dependencies**, and provide **sufficiently detailed instructions on how to use it**. Make it as simple as possible for others to understand the purpose of your project and quickly get something working.\n",
        "\n",
        "- Translating all your ideas and thoughts formally on paper can be a little difficult, but you'll get better over time, and doing so makes a significant difference in helping others realize the value of your project. Writing this documentation can also help you improve the design of your code, as you're forced to think through your design decisions more thoroughly. It also helps future contributors to follow your original intentions.\n",
        "\n",
        "There is a [full Udacity course](https://classroom.udacity.com/courses/ud777) on this topic.\n",
        "\n",
        "Here are a few READMEs from some popular projects:\n",
        "\n",
        "- [Bootstrap](https://github.com/twbs/bootstrap)\n",
        "- [Scikit-learn](https://github.com/scikit-learn/scikit-learn)\n",
        "- [Stack Overflow Blog](https://github.com/jjrunner/stackoverflow)"
      ]
    },
    {
      "cell_type": "markdown",
      "metadata": {
        "id": "c0s8Lg0arcgZ"
      },
      "source": [
        "## **4.8: Version Control in Data Science**\n",
        "If you need a refresher on using Git for version control, check out the [course linked in the extracurriculars](https://www.udacity.com/course/version-control-with-git--ud123). If you're ready, let's see how Git is used in real data science scenarios!\n",
        "\n",
        "### **Scenario #1**\n",
        "- Let's walk through the Git commands that go along with each step in the scenario you just observed in the video.\n",
        "\n",
        "- **Step 1:** You have a local version of a repository on your laptop, and to get the latest stable version, you pull from the develop branch.    \n",
        "   - Switch to the develop branch: `git checkout develop`\n",
        "   - Pull the latest changes in the develop branch: `git pull`\n",
        "- **Step 2**: When you start working on this demographic feature, you create a new branch called demographic, and start working on your code in this branch:\n",
        "  - Create and switch to a new branch called demographic from the develop branch: `git checkout -b demographic`\n",
        "  - Work on this new feature and commit as you go: \n",
        "    - `git commit -m 'added gender recommendations'`\n",
        "    - `git commit -m 'added location specific recommendations'`\n",
        "    - `...`\n",
        "- **Step 3**: However, in the middle of your work, you need to work on another feature. So you commit your changes on this demographic branch, and switch back to the develop branch:\n",
        "  - Commit your changes before switching: `git commit -m 'refactored demographic gender and location recommendations '`\n",
        "  - Switch to the develop branch: `git checkout develop`\n",
        "\n",
        "- **Step 4**: From this stable develop branch, you create another branch for a new feature called `friend_groups`:\n",
        "  - Create and switch to a new branch called friend_groups from the develop branch: `git checkout -b friend_groups`\n",
        "\n",
        "- **Step 5:** After you finish your work on the `friend_groups` branch, you commit your changes, switch back to the development branch, merge it back to the develop branch, and push this to the remote repository’s develop branch.\n",
        "  - Commit your changes before switching: `git commit -m 'finalized friend_groups recommendations '`\n",
        "  - Switch to the develop branch: `git checkout develop`\n",
        "  - Merge the friend_groups branch into the develop branch:`git merge --no-ff friends_groups`\n",
        "  - Push to the remote repository: `git push origin develop`\n",
        "- **Step 6**: Now, you can switch back to the demographic branch to continue your progress on that feature:\n",
        "  - Switch to the demographic branch: `git checkout demographic`\n",
        "\n"
      ]
    },
    {
      "cell_type": "markdown",
      "metadata": {
        "id": "JzgZ1Ody7Edh"
      },
      "source": [
        "### **Scenario #2**\n",
        "Let's walk through the Git commands that go along with each step in the scenario you just observed in the video.\n",
        "\n",
        "- **Step 1**: You check your commit history, seeing messages about the changes you made and how well the code performed:\n",
        "  - View the log history: `git log`\n",
        "- **Step 2:** The model at this commit seemed to score the highest, so you decide to take a look:\n",
        "  - Check out a commit: `git checkout bc90f2cbc9dc4e802b46e7a153aa106dc9a88560`\n",
        "  - After inspecting your code, you realize what modifications made it perform well, and use those for your model.\n",
        "- **Step 3:** Now, you're confident merging your changes back into the development branch and pushing the updated recommendation engine:\n",
        "  - Switch to the develop branch: `git checkout develop`\n",
        "  - Merge the friend_groups branch into the develop branch: `git merge --no-ff friend_groups`\n",
        "  - Push your changes to the remote repository: `git push origin develop`"
      ]
    },
    {
      "cell_type": "markdown",
      "metadata": {
        "id": "60dSk3oQ9PHp"
      },
      "source": [
        "### **Scenario #3**\n",
        "Let's walk through the Git commands that go along with each step in the scenario you just observed in the video.\n",
        "\n",
        "- **Step 1**: Andrew commits his changes to the documentation branch, switches to the development branch, and pulls down the latest changes from the cloud on this development branch, including the change I merged previously for the friends group feature:\n",
        "  - Commit the changes on the documentation branch: `git commit -m \"standardized all docstrings in process.py\"`\n",
        "  - Switch to the develop branch: `git checkout develop`\n",
        "  - Pull the latest changes on the develop branch down: `git pull`\n",
        "- **Step 2**: Andrew merges his documentation branch into the develop branch on his local repository, and then pushes his changes up to update the develop branch on the remote repository:\n",
        "  - Merge the documentation branch into the develop branch: `git merge --no-ff documentation`\n",
        "  - Push the changes up to the remote repository: `git push origin develop`\n",
        "- **Step 3**: After the team reviews your work and Andrew's work, they merge the updates from the development branch into the master branch. Then, they push the changes to the master branch on the remote repository. These changes are now in production:\n",
        "  - Merge the develop branch into the master branch: `git merge --no-ff develop`\n",
        "  - Push the changes up to the remote repository:\n",
        "`git push origin master`\n"
      ]
    },
    {
      "cell_type": "markdown",
      "metadata": {
        "id": "dDi46kFF_J2Q"
      },
      "source": [
        "### **Resources**\n",
        "- Read this [great article](https://nvie.com/posts/a-successful-git-branching-model/) on a successful Git branching strategy.\n",
        "\n",
        "#### **Note on merge conflicts**\n",
        "- For the most part, Git makes merging changes between branches really simple. However, there are some cases where Git can become confused about how to combine two changes, and asks you for help. This is called a merge conflict.\n",
        "\n",
        "- Mostly commonly, this happens when two branches modify the same file. For example, in this situation, let’s say you deleted a line that Andrew modified on his branch. Git wouldn’t know whether to delete the line or modify it. You need to tell Git which change to take, and some tools even allow you to edit the change manually. If it isn’t straightforward, you may have to consult with the developer of the other branch to handle a merge conflict.\n",
        "\n",
        "- To learn more about merge conflicts and methods to handle them, see [About merge conflicts](https://docs.github.com/en/github/collaborating-with-pull-requests/addressing-merge-conflicts/about-merge-conflicts)."
      ]
    },
    {
      "cell_type": "markdown",
      "metadata": {
        "id": "HAa0Hr1l_tT-"
      },
      "source": [
        "### **Model versioning**\n",
        "- In the previous example, you may have noticed that each commit was documented with a score for that model. This is one simple way to help you keep track of model versions. Version control in data science can be tricky, because there are many pieces involved that can be hard to track, such as large amounts of data, model versions, seeds, and hyperparameters.\n",
        "\n",
        "- The following resources offer useful methods and tools for managing model versions and large amounts of data. These are here for you to explore, but are not necessary to know now as you start your journey as a data scientist. On the job, you’ll always be learning new skills, and many of them will be specific to the processes set in your company.\n",
        "  - [How to version control your production machine learning models](https://algorithmia.com/blog/how-to-version-control-your-production-machine-learning-models)\n",
        "  - [Version Control ML Model](https://towardsdatascience.com/version-control-ml-model-4adb2db5f87c)"
      ]
    }
  ]
}